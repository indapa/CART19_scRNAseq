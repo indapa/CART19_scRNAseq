{
 "cells": [
  {
   "cell_type": "code",
   "execution_count": 1,
   "metadata": {},
   "outputs": [
    {
     "name": "stdout",
     "output_type": "stream",
     "text": [
      "hello world\n"
     ]
    }
   ],
   "source": [
    "print(\"hello world\")"
   ]
  },
  {
   "cell_type": "markdown",
   "metadata": {},
   "source": [
    "## Retrieve data from paper\n",
    "\n",
    "The data for the paper is [here](https://www.ncbi.nlm.nih.gov/geo/query/acc.cgi?acc=GSE197215)\n",
    "\n",
    "Get the data:\n",
    "\n",
    "```\n",
    "wget https://ftp.ncbi.nlm.nih.gov/geo/series/GSE197nnn/GSE197215/suppl/GSE197215%5FIntegrated%5Fobject%5Fof%5FCD19%5F3T3%5Fcondition.rds.gz && gunzip GSE197215_Integrated_object_of_CD19_3T3_condition.rds.gz\t\n",
    "\n",
    "wget https://ftp.ncbi.nlm.nih.gov/geo/series/GSE197nnn/GSE197215/suppl/GSE197215%5FIntegrated%5Fobject%5Fof%5FCD3%5FCD28%5Fbeads%5Fcondition.rds.gz && gunzip GSE197215_Integrated_object_of_CD3_CD28_beads_condition.rds.gz\t\n",
    "\n",
    "wget https://ftp.ncbi.nlm.nih.gov/geo/series/GSE197nnn/GSE197215/suppl/GSE197215%5FIntegrated%5Fobject%5Fof%5Fmesothelin%5F3T3%5Fcondition.rds.gz && gunzip GSE197215_Integrated_object_of_mesothelin_3T3_condition.rds.gz\t\n",
    "\n",
    "wget https://ftp.ncbi.nlm.nih.gov/geo/series/GSE197nnn/GSE197215/suppl/GSE197215%5FIntegrated%5Fobject%5Fof%5Funstimulated%5Fcondition.rds.gz && GSE197215_Integrated_object_of_unstimulated_condition.rds.gz\t\n",
    "```"
   ]
  },
  {
   "cell_type": "markdown",
   "metadata": {},
   "source": [
    "## Convert from Seurat to h5ad\n",
    "\n",
    "The data pulled in the previous step are Seurat objects. We need to convert them to h5ad. The [script](https://github.com/indapa/CART19_scRNAseq/blob/master/RScripts/seuratToh5ad.R) here will do the conversion and write out the h5ad file. "
   ]
  },
  {
   "cell_type": "markdown",
   "metadata": {},
   "source": [
    "## Install CellXGene and scVI tools\n",
    "\n",
    "Following the instructions for [embeddings vector search tutorial](https://chanzuckerberg.github.io/cellxgene-census/notebooks/api_demo/census_embedding_search.html?utm_content=303437580&utm_medium=social&utm_source=linkedin&hss_channel=lcp-11301003) from [CellXGene](https://chanzuckerberg.github.io/cellxgene-census), let's install the packages we need.\n",
    "\n",
    "TODO: update Dockerfile to install these packages, so it's already in the dev environment"
   ]
  },
  {
   "cell_type": "code",
   "execution_count": 4,
   "metadata": {},
   "outputs": [],
   "source": [
    "#! pip install --upgrade  'cellxgene_census[experimental]' scvi-tools"
   ]
  },
  {
   "cell_type": "code",
   "execution_count": 5,
   "metadata": {},
   "outputs": [],
   "source": [
    "import warnings\n",
    "\n",
    "warnings.filterwarnings(\"ignore\")\n",
    "\n",
    "import anndata\n",
    "import cellxgene_census.experimental\n",
    "import cellxgene_census\n",
    "import pandas as pd\n",
    "import scanpy as sc\n",
    "import scvi\n",
    "\n",
    "CENSUS_VERSION = \"2024-07-01\""
   ]
  },
  {
   "cell_type": "code",
   "execution_count": 6,
   "metadata": {},
   "outputs": [],
   "source": [
    "from pathlib import Path\n",
    "\n",
    "data_dir = Path(\"/workspaces/CART19_scRNAseq/Data/AnnDataObjs\")\n",
    "\n",
    "unstimulated_file = data_dir / \"GSE197215_Integrated_object_of_unstimulated_condition.h5ad\"\n",
    "mlsn_file = data_dir / \"GSE197215_Integrated_object_of_mesothelin_3T3_condition.h5ad\"\n",
    "tcr_file = data_dir / \"GSE197215_Integrated_object_of_CD3_CD28_beads_condition.h5ad\"\n",
    "cd19_3T3_file = data_dir / \"GSE197215_Integrated_object_of_CD19_3T3_condition.h5ad\""
   ]
  },
  {
   "cell_type": "code",
   "execution_count": 8,
   "metadata": {},
   "outputs": [
    {
     "name": "stdout",
     "output_type": "stream",
     "text": [
      "Data/AnnDataObjs/GSE197215_Integrated_object_of_unstimulated_condition.h5ad\n"
     ]
    }
   ],
   "source": [
    "# load the unstimulated data h5ad file into anndata object\n",
    "\n",
    "print(unstimulated_file)"
   ]
  },
  {
   "cell_type": "code",
   "execution_count": null,
   "metadata": {},
   "outputs": [],
   "source": []
  }
 ],
 "metadata": {
  "kernelspec": {
   "display_name": "Python 3",
   "language": "python",
   "name": "python3"
  },
  "language_info": {
   "codemirror_mode": {
    "name": "ipython",
    "version": 3
   },
   "file_extension": ".py",
   "mimetype": "text/x-python",
   "name": "python",
   "nbconvert_exporter": "python",
   "pygments_lexer": "ipython3",
   "version": "3.10.12"
  }
 },
 "nbformat": 4,
 "nbformat_minor": 2
}
